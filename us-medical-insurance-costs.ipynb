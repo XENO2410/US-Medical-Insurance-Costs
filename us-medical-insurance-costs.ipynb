{
 "cells": [
  {
   "cell_type": "markdown",
   "metadata": {},
   "source": [
    "# U.S. Medical Insurance Costs"
   ]
  },
  {
   "cell_type": "code",
   "execution_count": 13,
   "metadata": {},
   "outputs": [],
   "source": [
    "import csv"
   ]
  },
  {
   "cell_type": "code",
   "execution_count": 14,
   "metadata": {},
   "outputs": [],
   "source": [
    "# Initialize lists for each column\n",
    "age = []\n",
    "sex = []\n",
    "bmi = []\n",
    "children = []\n",
    "smoker = []\n",
    "region = []\n",
    "charges = []"
   ]
  },
  {
   "cell_type": "code",
   "execution_count": 26,
   "metadata": {},
   "outputs": [],
   "source": [
    "with open('insurance.csv', mode = 'r') as file:\n",
    "    reader = csv.reader(file)\n",
    "\n",
    "    # Read the header\n",
    "    header = next(reader)\n",
    "\n",
    "    # Loop through the file and add each column's data to its respective list\n",
    "    for row in reader:    \n",
    "        age.append(row[0])\n",
    "        sex.append(row[1])\n",
    "        bmi.append(row[2])\n",
    "        children.append(row[3])\n",
    "        smoker.append(row[4])\n",
    "        region.append(row[5])\n",
    "        charges.append(row[6])"
   ]
  },
  {
   "cell_type": "code",
   "execution_count": 27,
   "metadata": {},
   "outputs": [
    {
     "name": "stdout",
     "output_type": "stream",
     "text": [
      "Age: ['19', '18', '28', '33', '32', '31', '46', '37', '37', '60']\n",
      "Sex: ['female', 'male', 'male', 'male', 'male', 'female', 'female', 'female', 'male', 'female']\n",
      "BMI: ['27.9', '33.77', '33', '22.705', '28.88', '25.74', '33.44', '27.74', '29.83', '25.84']\n",
      "Children: ['0', '1', '3', '0', '0', '0', '1', '3', '2', '0']\n",
      "Smoker: ['yes', 'no', 'no', 'no', 'no', 'no', 'no', 'no', 'no', 'no']\n",
      "Region: ['southwest', 'southeast', 'southeast', 'northwest', 'northwest', 'southeast', 'southeast', 'northwest', 'northeast', 'northwest']\n",
      "Charges: ['16884.924', '1725.5523', '4449.462', '21984.47061', '3866.8552', '3756.6216', '8240.5896', '7281.5056', '6406.4107', '28923.13692']\n"
     ]
    }
   ],
   "source": [
    "# Display the first 10 entries from each list as a sample to verify\n",
    "print(\"Age:\", age[:10])\n",
    "print(\"Sex:\", sex[:10])\n",
    "print(\"BMI:\", bmi[:10])\n",
    "print(\"Children:\", children[:10])\n",
    "print(\"Smoker:\", smoker[:10])\n",
    "print(\"Region:\", region[:10])\n",
    "print(\"Charges:\", charges[:10])"
   ]
  },
  {
   "cell_type": "code",
   "execution_count": 31,
   "metadata": {},
   "outputs": [
    {
     "name": "stdout",
     "output_type": "stream",
     "text": [
      "52459 1338 39.20702541106129\n"
     ]
    }
   ],
   "source": [
    "# Calculating average age and sum_of_ages\n",
    "avg_age  = 0\n",
    "sum_of_ages = 0\n",
    "for i in range(len(age)):\n",
    "    sum_of_ages+= int(age[i])\n",
    "\n",
    "avg_age = sum_of_ages / len(age)\n",
    "print(sum_of_ages, len(age), avg_age)"
   ]
  },
  {
   "cell_type": "code",
   "execution_count": 52,
   "metadata": {},
   "outputs": [
    {
     "name": "stdout",
     "output_type": "stream",
     "text": [
      "Total No. of Infants are: 0\n",
      "Total No. of Toddlers are: 0\n",
      "Total No. of Childs are: 0\n",
      "Total No. of Teens are: 137\n",
      "Total No. of Adults are: 537\n",
      "Total No. of Middle Age Adults are: 550\n",
      "Total No. of Senior Adults are: 114\n",
      "\n",
      "There are 0.0 infants in sample.\n",
      "There are 0.0 toddlers in sample.\n",
      "There are 0.0 childs in sample.\n",
      "There are 10.24 teens in sample.\n",
      "There are 40.13 adults in sample.\n",
      "There are 41.11 middle age adults in sample.\n",
      "There are 8.52 senior adults in sample.\n"
     ]
    }
   ],
   "source": [
    "# Age Categorization\n",
    "total_samples = len(age)\n",
    "infant = 0\n",
    "toddler = 0\n",
    "child = 0\n",
    "teen = 0\n",
    "adult = 0\n",
    "middle_age_adult = 0\n",
    "senior_adult = 0\n",
    "\n",
    "# Total count of each\n",
    "for i in range(len(age)):\n",
    "    if int(age[i]) >=0 and int(age[i]) <=1:\n",
    "        infant+= 1\n",
    "    elif int(age[i]) >=2 and int(age[i]) <=4:\n",
    "        toddler+= 1\n",
    "    elif int(age[i]) >=5 and int(age[i]) <=12:\n",
    "        child+= 1\n",
    "    elif int(age[i]) >=13 and int(age[i]) <=19:\n",
    "        teen+= 1\n",
    "    elif int(age[i]) >=20 and int(age[i]) <=39:\n",
    "        adult+= 1\n",
    "    elif int(age[i]) >=40 and int(age[i]) <=59:\n",
    "        middle_age_adult+= 1\n",
    "    elif int(age[i]) >=60:\n",
    "        senior_adult+= 1\n",
    "\n",
    "\n",
    "print(\"Total No. of Infants are: \" + str(infant))\n",
    "print(\"Total No. of Toddlers are: \" + str(toddler))\n",
    "print(\"Total No. of Childs are: \" + str(child))\n",
    "print(\"Total No. of Teens are: \" + str(teen))\n",
    "print(\"Total No. of Adults are: \" + str(adult))\n",
    "print(\"Total No. of Middle Age Adults are: \" + str(middle_age_adult))\n",
    "print(\"Total No. of Senior Adults are: \" + str(senior_adult))\n",
    "print('')\n",
    "\n",
    "# Percentage of Each age group\n",
    "\n",
    "infant_perc = (infant / total_samples)*100\n",
    "toddler_perc = (toddler / total_samples)*100\n",
    "child_perc = (child / total_samples)*100\n",
    "teen_perc = (teen / total_samples)*100\n",
    "adults_perc = (adult / total_samples)*100\n",
    "middle_age_adult_perc = (middle_age_adult / total_samples)*100\n",
    "senior_adult_perc = (senior_adult / total_samples)*100\n",
    "\n",
    "round_infant_perc = round(infant_perc,2)\n",
    "round_toddler_perc = round(toddler_perc,2)\n",
    "round_child_perc = round(child_perc,2)\n",
    "round_teen_perc = round(teen_perc,2)\n",
    "round_adults_perc = round(adults_perc,2)\n",
    "round_middle_age_adult_perc = round(middle_age_adult_perc,2)\n",
    "round_senior_adult_perc = round(senior_adult_perc,2)\n",
    "\n",
    "print(\"There are \" + str(round_infant_perc) + \" infants in sample.\")\n",
    "print(\"There are \" + str(round_toddler_perc) + \" toddlers in sample.\")\n",
    "print(\"There are \" + str(round_child_perc) + \" childs in sample.\")\n",
    "print(\"There are \" + str(round_teen_perc) + \" teens in sample.\")\n",
    "print(\"There are \" + str(round_adults_perc) + \" adults in sample.\")\n",
    "print(\"There are \" + str(round_middle_age_adult_perc) + \" middle age adults in sample.\")\n",
    "print(\"There are \" + str(round_senior_adult_perc) + \" senior adults in sample.\")\n",
    "    "
   ]
  },
  {
   "cell_type": "code",
   "execution_count": 50,
   "metadata": {},
   "outputs": [
    {
     "name": "stdout",
     "output_type": "stream",
     "text": [
      "There are 676 males in the total samples.\n",
      "There are 662 females in the total samples.\n",
      "\n",
      "In the given samples, there are 50.52% of males\n",
      "In the given samples, there are 49.48% of females\n"
     ]
    }
   ],
   "source": [
    "# Sex Categorization\n",
    "no_of_male = 0\n",
    "no_of_female = 0\n",
    "total_samples = len(sex)\n",
    "# print(total_samples)\n",
    "\n",
    "# Count of individual sex group\n",
    "for i in range(len(sex)):\n",
    "    if sex[i] == 'male':\n",
    "        no_of_male+= 1\n",
    "    elif sex[i] == 'female':\n",
    "        no_of_female+= 1\n",
    "\n",
    "print(\"There are \" + str(no_of_male) + \" males in the total samples.\")\n",
    "print(\"There are \" + str(no_of_female) + \" females in the total samples.\")\n",
    "print('')\n",
    "\n",
    "# Percentage of individual sex group\n",
    "\n",
    "male_perc = (no_of_male / total_samples)*100\n",
    "female_perc = (no_of_female / total_samples)*100\n",
    "\n",
    "round_male_perc = round(male_perc,2)\n",
    "round_female_perc = round(female_perc,2)\n",
    "\n",
    "print(\"In the given samples, there are \" + str(round_male_perc) + \"% of males\")\n",
    "print(\"In the given samples, there are \" + str(round_female_perc) + \"% of females\")"
   ]
  },
  {
   "cell_type": "code",
   "execution_count": 69,
   "metadata": {},
   "outputs": [
    {
     "name": "stdout",
     "output_type": "stream",
     "text": [
      "Underweight: 17\n",
      "Healthy: 222\n",
      "Overweight: 377\n",
      "Obese: 707\n",
      "The average BMI is:  30.66\n"
     ]
    }
   ],
   "source": [
    "#BMI Categorization\n",
    "average_bmi = 0\n",
    "underweight = 0\n",
    "healthy = 0\n",
    "overweight = 0\n",
    "obese = 0\n",
    "\n",
    "# Defining a function that categorizes according to the BMI index of the individual\n",
    "def bmi_categorization(value):\n",
    "    if value >= 17.0 and value <= 18.4:\n",
    "        return \"Underweight\"\n",
    "    elif value >= 18.5 and value <= 24.9:\n",
    "        return \"Healthy\"\n",
    "    elif value >= 25.0 and value <= 29.9:\n",
    "        return \"Overweight\"\n",
    "    elif value >= 30.0:\n",
    "        return \"Obese\"\n",
    "    return None\n",
    "\n",
    "# Loop through the BMI list and update counters\n",
    "for value in bmi:\n",
    "    category = bmi_categorization(float(value))\n",
    "    if category == \"Underweight\":\n",
    "        underweight += 1\n",
    "    elif category == \"Healthy\":\n",
    "        healthy += 1\n",
    "    elif category == \"Overweight\":\n",
    "        overweight += 1\n",
    "    elif category == \"Obese\":\n",
    "        obese += 1\n",
    "\n",
    "# Print the results\n",
    "print(\"Underweight:\", underweight)\n",
    "print(\"Healthy:\", healthy)\n",
    "print(\"Overweight:\", overweight)\n",
    "print(\"Obese:\", obese)\n",
    "\n",
    "# Average BMI\n",
    "\n",
    "sum_of_bmi = 0\n",
    "total_samples = len(bmi)\n",
    "for value in bmi:\n",
    "    sum_of_bmi+= float(value)\n",
    "\n",
    "average_bmi = sum_of_bmi / total_samples\n",
    "round_average_bmi = round(average_bmi,2)\n",
    "print(\"The average BMI is: \", round_average_bmi)\n",
    "# print(total_samples)\n",
    "\n",
    "    "
   ]
  },
  {
   "cell_type": "code",
   "execution_count": 75,
   "metadata": {},
   "outputs": [
    {
     "name": "stdout",
     "output_type": "stream",
     "text": [
      "The average no. of childrens:  1\n"
     ]
    }
   ],
   "source": [
    "# Children Categorization\n",
    "average_childrens = 0\n",
    "total_childrens = 0\n",
    "total_samples = len(children)\n",
    "\n",
    "for number in children:\n",
    "    total_childrens+= int(number)\n",
    "\n",
    "average_childrens = total_childrens / total_samples\n",
    "round_average_childrens = round(average_childrens,0)\n",
    "print(\"The average no. of childrens: \", int(round_average_childrens))\n"
   ]
  },
  {
   "cell_type": "code",
   "execution_count": 82,
   "metadata": {},
   "outputs": [
    {
     "name": "stdout",
     "output_type": "stream",
     "text": [
      "Total no. of smokers are:  274\n",
      "Total no. of non-smokers are:  1064\n",
      "\n",
      "There are 20.48% of smokers.\n",
      "There are 79.52% of non-smokers.\n"
     ]
    }
   ],
   "source": [
    "# Smoker's Categorization\n",
    "\n",
    "smokers = 0\n",
    "non_smokers = 0\n",
    "total_samples = len(smoker)\n",
    "\n",
    "for value in smoker:\n",
    "    if value == \"yes\":\n",
    "        smokers+= 1\n",
    "    else:\n",
    "        non_smokers+= 1\n",
    "\n",
    "print(\"Total no. of smokers are: \", str(smokers))\n",
    "print(\"Total no. of non-smokers are: \", str(non_smokers))\n",
    "print('')\n",
    "\n",
    "# Individual percentages\n",
    "\n",
    "smokers_perc = (smokers / total_samples)*100\n",
    "non_smokers_perc = (non_smokers / total_samples)*100\n",
    "\n",
    "round_smokers_perc = round(smokers_perc,2)\n",
    "round_non_smokers_perc = round(non_smokers_perc,2)\n",
    "\n",
    "print(\"There are \" + str(round_smokers_perc) + \"% of smokers.\")\n",
    "print(\"There are \" + str(round_non_smokers_perc) + \"% of non-smokers.\")"
   ]
  },
  {
   "cell_type": "code",
   "execution_count": 94,
   "metadata": {},
   "outputs": [
    {
     "name": "stdout",
     "output_type": "stream",
     "text": [
      "{'southwest': 325, 'southeast': 364, 'northwest': 325, 'northeast': 324}\n",
      "{'southwest': 24.29, 'southeast': 27.2, 'northwest': 24.29, 'northeast': 24.22}\n",
      "southwest : 24.29%\n",
      "southeast : 27.2%\n",
      "northwest : 24.29%\n",
      "northeast : 24.22%\n"
     ]
    }
   ],
   "source": [
    "# Region Categorization\n",
    "region_dict = {}\n",
    "\n",
    "for value in range(len(region)):\n",
    "    if region[value] not in region_dict:\n",
    "        region_dict[region[value]] = 0\n",
    "    region_dict[region[value]] += 1\n",
    "\n",
    "print(region_dict)\n",
    "total_samples = len(region)\n",
    "\n",
    "perc_region_dict = {}\n",
    "for key,value in region_dict.items():\n",
    "    perc_region_dict[key] = round(((value / total_samples)*100),2)\n",
    "print(perc_region_dict)\n",
    "\n",
    "for key, value in perc_region_dict.items():\n",
    "    print(key + \" : \" + str(value) + \"%\")"
   ]
  },
  {
   "cell_type": "code",
   "execution_count": 98,
   "metadata": {},
   "outputs": [
    {
     "name": "stdout",
     "output_type": "stream",
     "text": [
      "The average charges are:  13270.42\n"
     ]
    }
   ],
   "source": [
    "# Charges categorization\n",
    "total_samples = len(charges)\n",
    "average_charges = 0\n",
    "sum_of_charges = 0\n",
    "\n",
    "for charge in charges:\n",
    "    sum_of_charges+= float(charge)\n",
    "\n",
    "# print(sum_of_charges)\n",
    "average_charges = sum_of_charges / total_samples\n",
    "round_average_charges = round(average_charges,2)\n",
    "print(\"The average charges are: \", str(round_average_charges))"
   ]
  },
  {
   "cell_type": "code",
   "execution_count": 103,
   "metadata": {},
   "outputs": [],
   "source": [
    "# Solving Conditions\n",
    "\n",
    "main_dict = {}\n",
    "# Creating a unique key for each entry using index\n",
    "for i in range(len(age)):\n",
    "    main_dict[i] = {\n",
    "        \"age\": age[i],\n",
    "        \"sex\": sex[i],\n",
    "        \"bmi\": bmi[i],\n",
    "        \"children\": children[i],\n",
    "        \"smoker\": smoker[i],\n",
    "        \"region\": region[i],\n",
    "        \"charges\": charges[i]\n",
    "    }\n",
    "\n",
    "# Print the main dictionary\n",
    "# print(main_dict)\n",
    "\n"
   ]
  },
  {
   "cell_type": "code",
   "execution_count": 104,
   "metadata": {},
   "outputs": [
    {
     "name": "stdout",
     "output_type": "stream",
     "text": [
      "Average charges for smokers:  32050.23183153285\n",
      "Average charges for non-smokers:  8434.268297856199\n"
     ]
    }
   ],
   "source": [
    "# Average charges for smokers and non-smokers\n",
    "\n",
    "# Initialize sums and counts\n",
    "total_smoker_charges = 0\n",
    "total_non_smoker_charges = 0\n",
    "smoker_count = 0\n",
    "non_smoker_count = 0\n",
    "\n",
    "# Iterate over the charges and smoker status\n",
    "for i in range(len(smoker)):\n",
    "    if smoker[i] == \"yes\":\n",
    "        total_smoker_charges += float(charges[i])\n",
    "        smoker_count += 1\n",
    "    else:\n",
    "        total_non_smoker_charges += float(charges[i])\n",
    "        non_smoker_count += 1\n",
    "\n",
    "# Calculate the averages\n",
    "average_smoker_charges = total_smoker_charges / smoker_count if smoker_count > 0 else 0\n",
    "average_non_smoker_charges = total_non_smoker_charges / non_smoker_count if non_smoker_count > 0 else 0\n",
    "\n",
    "# Print the averages\n",
    "print(\"Average charges for smokers: \", average_smoker_charges)\n",
    "print(\"Average charges for non-smokers: \", average_non_smoker_charges)"
   ]
  },
  {
   "cell_type": "code",
   "execution_count": 110,
   "metadata": {},
   "outputs": [
    {
     "name": "stdout",
     "output_type": "stream",
     "text": [
      "There are 764 individuals with at least one child.\n",
      "The average age for individuals with at least one child is: 39.78\n"
     ]
    }
   ],
   "source": [
    "# Average Age for someone with at least 1 child\n",
    "\n",
    "# Initialize counters\n",
    "age_count = 0\n",
    "total_age = 0\n",
    "\n",
    "# Iterate over the children list and sum the ages of individuals with at least one child\n",
    "for i in range(len(children)):\n",
    "    if int(children[i]) >= 1:\n",
    "        age_count += 1\n",
    "        total_age += int(age[i])\n",
    "\n",
    "# Calculate the average age\n",
    "if age_count > 0:\n",
    "    avg_age_1_children = total_age / age_count\n",
    "else:\n",
    "    avg_age_1_children = 0\n",
    "\n",
    "# Print the result\n",
    "print(\"There are \" + str(age_count) + \" individuals with at least one child.\")\n",
    "print(\"The average age for individuals with at least one child is: \" + str(round(avg_age_1_children, 2)))"
   ]
  },
  {
   "cell_type": "code",
   "execution_count": 116,
   "metadata": {},
   "outputs": [
    {
     "name": "stdout",
     "output_type": "stream",
     "text": [
      "13956.751177721886\n",
      "12569.57884383534\n",
      "\n",
      "13956.75\n",
      "12569.58\n"
     ]
    }
   ],
   "source": [
    "# male v/s female Average Charges\n",
    "male_charges = 0\n",
    "female_charges = 0\n",
    "# print(no_of_male)\n",
    "# print(no_of_female)\n",
    "\n",
    "for i in range(len(sex)):\n",
    "    if sex[i] == \"male\":\n",
    "        male_charges+= float(charges[i])\n",
    "    else:\n",
    "        female_charges+= float(charges[i])\n",
    "\n",
    "male_average_charges = male_charges / no_of_male\n",
    "female_average_charges = female_charges / no_of_female\n",
    "\n",
    "round_male_average_charges = round(male_average_charges, 2)\n",
    "round_female_average_charges = round(female_average_charges, 2)\n",
    "\n",
    "print(male_average_charges)\n",
    "print(female_average_charges)\n",
    "print('')\n",
    "\n",
    "print(round_male_average_charges)\n",
    "print(round_female_average_charges)"
   ]
  },
  {
   "cell_type": "code",
   "execution_count": 118,
   "metadata": {},
   "outputs": [
    {
     "name": "stdout",
     "output_type": "stream",
     "text": [
      "There are 106 healthy males according to BMI index.\n",
      "There are 116 healthy females according to BMI index.\n"
     ]
    }
   ],
   "source": [
    "# males/females vs BMI\n",
    "\n",
    "'''\n",
    "    if value >= 17.0 and value <= 18.4:\n",
    "        return \"Underweight\"\n",
    "    elif value >= 18.5 and value <= 24.9:\n",
    "        return \"Healthy\"\n",
    "    elif value >= 25.0 and value <= 29.9:\n",
    "        return \"Overweight\"\n",
    "    elif value >= 30.0:\n",
    "        return \"Obese\"\n",
    "'''\n",
    "# Count no. of healthy males and females\n",
    "healthy_males = 0\n",
    "healthy_females = 0\n",
    "\n",
    "for i in range(len(bmi)):\n",
    "    if float(bmi[i]) >=18.5 and float(bmi[i]) <=24.9 and sex[i] == \"male\":\n",
    "        healthy_males+= 1\n",
    "    elif float(bmi[i]) >=18.5 and float(bmi[i]) <=24.9 and sex[i] == \"female\":\n",
    "        healthy_females+= 1\n",
    "\n",
    "print(\"There are \" + str(healthy_males) + \" healthy males according to BMI index.\")\n",
    "print(\"There are \" + str(healthy_females) + \" healthy females according to BMI index.\")\n"
   ]
  }
 ],
 "metadata": {
  "kernelspec": {
   "display_name": "Python 3 (ipykernel)",
   "language": "python",
   "name": "python3"
  },
  "language_info": {
   "codemirror_mode": {
    "name": "ipython",
    "version": 3
   },
   "file_extension": ".py",
   "mimetype": "text/x-python",
   "name": "python",
   "nbconvert_exporter": "python",
   "pygments_lexer": "ipython3",
   "version": "3.11.7"
  }
 },
 "nbformat": 4,
 "nbformat_minor": 4
}
